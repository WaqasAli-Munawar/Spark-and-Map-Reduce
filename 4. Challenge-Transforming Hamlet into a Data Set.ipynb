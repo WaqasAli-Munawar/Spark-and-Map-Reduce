{
 "cells": [
  {
   "cell_type": "markdown",
   "metadata": {},
   "source": [
    "In the previous two file, we covered the basics of PySpark, the MapReduce paradigm, transformations and actions, and how to do basic data cleanup in PySpark. In this challenge, we'll use the techniques we've learned to transform the text of Hamlet into a format that's more useful for data analysis.\n",
    "\n",
    "Resources\n",
    "\n",
    "* [PySpark's documentation for the RDD data structure](http://spark.apache.org/docs/latest/api/python/pyspark.html#pyspark.RDD)\n",
    "* [Visual representation of methods](http://nbviewer.ipython.org/github/jkthompson/pyspark-pictures/blob/master/pyspark-pictures.ipynb) (IPython Notebook format)\n",
    "* [Visual representation of methods](https://training.databricks.com/visualapi.pdf) (PDF format)"
   ]
  },
  {
   "attachments": {
    "image.png": {
     "image/png": "[encoded data removed]"
    }
   },
   "cell_type": "markdown",
   "metadata": {},
   "source": [
    "The first value in each element (or line from the play) is a line number that identifies the line of the play the text is from. It appears in the following format:\n",
    "\n",
    "![image.png](attachment:image.png)\n",
    "\n",
    "We don't need the hamlet@ at the beginning of these IDs for our data analysis. Let's extract just the integer part of the ID from each line, which is much more useful."
   ]
  },
  {
   "cell_type": "code",
   "execution_count": 1,
   "metadata": {},
   "outputs": [],
   "source": [
    "import pyspark"
   ]
  },
  {
   "cell_type": "code",
   "execution_count": 2,
   "metadata": {},
   "outputs": [],
   "source": [
    "sc = pyspark.SparkContext()"
   ]
  },
  {
   "cell_type": "code",
   "execution_count": 3,
   "metadata": {},
   "outputs": [],
   "source": [
    "raw_hamlet = sc.textFile(\"hamlet.txt\")"
   ]
  },
  {
   "cell_type": "code",
   "execution_count": 6,
   "metadata": {},
   "outputs": [
    {
     "data": {
      "text/plain": [
       "[['hamlet@0', '', 'HAMLET'],\n",
       " ['hamlet@8'],\n",
       " ['hamlet@9'],\n",
       " ['hamlet@10', '', 'DRAMATIS PERSONAE'],\n",
       " ['hamlet@29']]"
      ]
     },
     "execution_count": 6,
     "metadata": {},
     "output_type": "execute_result"
    }
   ],
   "source": [
    "split_hamlet = raw_hamlet.map(lambda line: line.split(\"\\t\"))\n",
    "split_hamlet.take(5)"
   ]
  },
  {
   "cell_type": "code",
   "execution_count": 12,
   "metadata": {},
   "outputs": [],
   "source": [
    "def format_id(x):\n",
    "    id = x[0].split(\"@\")[1]\n",
    "    results = list()\n",
    "    results.append(id)\n",
    "    if len(x) > 1:\n",
    "        for y in x[1:]:\n",
    "            results.append(y)\n",
    "    return results\n",
    "\n",
    "# or\n",
    "\n",
    "# def format_id(line):\n",
    "#     id = line[0].split(\"@\")[1]\n",
    "#     line[0] = id\n",
    "#     return line\n",
    "    "
   ]
  },
  {
   "cell_type": "code",
   "execution_count": 22,
   "metadata": {},
   "outputs": [
    {
     "name": "stdout",
     "output_type": "stream",
     "text": [
      "[['0', '', 'HAMLET'], ['8'], ['9'], ['10', '', 'DRAMATIS PERSONAE'], ['29']]\n"
     ]
    }
   ],
   "source": [
    "hamlet_with_ids = split_hamlet.map(lambda line:format_id(line))\n",
    "print(hamlet_with_ids.take(5))"
   ]
  },
  {
   "cell_type": "markdown",
   "metadata": {},
   "source": [
    "Next, we want to get rid of elements that don't contain any actual words (and just have an ID as the first value). These typically represent blank lines between paragraphs or sections in the play. We also want to remove any blank values ('') within elements, which don't contain any useful information for our analysis."
   ]
  },
  {
   "cell_type": "code",
   "execution_count": 27,
   "metadata": {},
   "outputs": [
    {
     "data": {
      "text/plain": [
       "[['0', '', 'HAMLET'],\n",
       " ['10', '', 'DRAMATIS PERSONAE'],\n",
       " ['31', 'CLAUDIUS', 'king of Denmark. (KING CLAUDIUS:)'],\n",
       " ['75', 'HAMLET', 'son to the late, and nephew to the present king.'],\n",
       " ['132', 'POLONIUS', 'lord chamberlain. (LORD POLONIUS:)']]"
      ]
     },
     "execution_count": 27,
     "metadata": {},
     "output_type": "execute_result"
    }
   ],
   "source": [
    "real_text = hamlet_with_ids.filter(lambda line:len(line) >1)\n",
    "real_text.take(5)"
   ]
  },
  {
   "cell_type": "code",
   "execution_count": 33,
   "metadata": {},
   "outputs": [
    {
     "data": {
      "text/plain": [
       "[['0', 'HAMLET'],\n",
       " ['10', 'DRAMATIS PERSONAE'],\n",
       " ['31', 'CLAUDIUS', 'king of Denmark. (KING CLAUDIUS:)'],\n",
       " ['75', 'HAMLET', 'son to the late, and nephew to the present king.'],\n",
       " ['132', 'POLONIUS', 'lord chamberlain. (LORD POLONIUS:)']]"
      ]
     },
     "execution_count": 33,
     "metadata": {},
     "output_type": "execute_result"
    }
   ],
   "source": [
    "hamlet_text_only = real_text.map(lambda line: [i for i in line if i!=\"\"])\n",
    "hamlet_text_only.take(5)"
   ]
  },
  {
   "cell_type": "markdown",
   "metadata": {},
   "source": [
    "If we've been using take() to preview the RDD after each task, we may have noticed there are some pipe characters (|) in odd places that add no value for us. The pipe character may appear as a standalone value in an element, or as part of an otherwise useful string value."
   ]
  },
  {
   "cell_type": "code",
   "execution_count": 34,
   "metadata": {},
   "outputs": [
    {
     "data": {
      "text/plain": [
       "[['0', 'HAMLET'],\n",
       " ['10', 'DRAMATIS PERSONAE'],\n",
       " ['31', 'CLAUDIUS', 'king of Denmark. (KING CLAUDIUS:)'],\n",
       " ['75', 'HAMLET', 'son to the late, and nephew to the present king.'],\n",
       " ['132', 'POLONIUS', 'lord chamberlain. (LORD POLONIUS:)'],\n",
       " ['177', 'HORATIO', 'friend to Hamlet.'],\n",
       " ['204', 'LAERTES', 'son to Polonius.'],\n",
       " ['230', 'LUCIANUS', 'nephew to the king.'],\n",
       " ['261', 'VOLTIMAND', '|'],\n",
       " ['273', '|']]"
      ]
     },
     "execution_count": 34,
     "metadata": {},
     "output_type": "execute_result"
    }
   ],
   "source": [
    "hamlet_text_only.take(10)"
   ]
  },
  {
   "cell_type": "markdown",
   "metadata": {},
   "source": [
    "Remove any list items that only contain the pipe character (|), and replace any pipe characters that appear within strings with an empty character."
   ]
  },
  {
   "cell_type": "code",
   "execution_count": 35,
   "metadata": {},
   "outputs": [
    {
     "data": {
      "text/plain": [
       "[['0', 'HAMLET'],\n",
       " ['10', 'DRAMATIS PERSONAE'],\n",
       " ['31', 'CLAUDIUS', 'king of Denmark. (KING CLAUDIUS:)'],\n",
       " ['75', 'HAMLET', 'son to the late, and nephew to the present king.'],\n",
       " ['132', 'POLONIUS', 'lord chamberlain. (LORD POLONIUS:)'],\n",
       " ['177', 'HORATIO', 'friend to Hamlet.'],\n",
       " ['204', 'LAERTES', 'son to Polonius.'],\n",
       " ['230', 'LUCIANUS', 'nephew to the king.'],\n",
       " ['261', 'VOLTIMAND'],\n",
       " ['273']]"
      ]
     },
     "execution_count": 35,
     "metadata": {},
     "output_type": "execute_result"
    }
   ],
   "source": [
    "clean_hamlet = hamlet_text_only.map(lambda line: [l for l in line if l != \"|\"])\n",
    "clean_hamlet.take(10)"
   ]
  },
  {
   "cell_type": "code",
   "execution_count": 42,
   "metadata": {},
   "outputs": [],
   "source": [
    "def fix_pipe(line):\n",
    "    results = list()\n",
    "    for l in line:\n",
    "        if l == \"|\":\n",
    "            pass\n",
    "        elif \"|\" in l:\n",
    "            fmtd = l.replace(\"|\", \"\")\n",
    "            results.append(fmtd)\n",
    "        else:\n",
    "            results.append(l)\n",
    "    return results\n",
    "\n",
    "# or\n",
    "\n",
    "# def fix_pipe(line):\n",
    "#     for i in range(len(line)):\n",
    "#         if \"|\" in line[i]:\n",
    "#                    line[i] = line[i].replace(\"|\",\"\")\n",
    "#     return line           "
   ]
  },
  {
   "cell_type": "code",
   "execution_count": 45,
   "metadata": {},
   "outputs": [],
   "source": [
    "clean_hamlet = hamlet_text_only.map(lambda line: fix_pipe(line))      "
   ]
  },
  {
   "cell_type": "code",
   "execution_count": null,
   "metadata": {},
   "outputs": [],
   "source": []
  }
 ],
 "metadata": {
  "kernelspec": {
   "display_name": "Python 3",
   "language": "python",
   "name": "python3"
  },
  "language_info": {
   "codemirror_mode": {
    "name": "ipython",
    "version": 3
   },
   "file_extension": ".py",
   "mimetype": "text/x-python",
   "name": "python",
   "nbconvert_exporter": "python",
   "pygments_lexer": "ipython3",
   "version": "3.7.3"
  }
 },
 "nbformat": 4,
 "nbformat_minor": 2
}
