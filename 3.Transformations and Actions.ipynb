{
 "cells": [
  {
   "cell_type": "markdown",
   "metadata": {},
   "source": [
    "In a previous file, we touched briefly on transformations and actions, and how these two methods affect the execution of code. In this file, we'll dive deeper into how those mechanisms work, and explore a wider range of the functions built into [the Spark core](http://spark.apache.org/docs/latest/api/python/pyspark.html).\n",
    "\n",
    "The file **hamlet.txt** contains the entire text of [Shakespeare's play Hamlet](https://en.wikipedia.org/wiki/Hamlet). Shakespeare is well-known for his unique writing style and arguably one of the most influential writers in history. $Hamlet$ is one of his most popular plays.\n",
    "\n",
    "Let's perform some text analysis on it. The file is in pure text format, though, and not ready for analysis. Before we can proceed, we'll have to clean up and reformat the data."
   ]
  },
  {
   "cell_type": "code",
   "execution_count": 1,
   "metadata": {},
   "outputs": [
    {
     "data": {
      "text/plain": [
       "'C:\\\\spark-2.4.5-bin-hadoop2.7'"
      ]
     },
     "execution_count": 1,
     "metadata": {},
     "output_type": "execute_result"
    }
   ],
   "source": [
    "import findspark\n",
    "findspark.init()\n",
    "findspark.find()"
   ]
  },
  {
   "cell_type": "code",
   "execution_count": 2,
   "metadata": {},
   "outputs": [],
   "source": [
    "import pyspark\n",
    "\n",
    "sc = pyspark.SparkContext()"
   ]
  },
  {
   "cell_type": "code",
   "execution_count": 4,
   "metadata": {},
   "outputs": [
    {
     "data": {
      "text/plain": [
       "['hamlet@0\\t\\tHAMLET',\n",
       " 'hamlet@8',\n",
       " 'hamlet@9',\n",
       " 'hamlet@10\\t\\tDRAMATIS PERSONAE',\n",
       " 'hamlet@29']"
      ]
     },
     "execution_count": 4,
     "metadata": {},
     "output_type": "execute_result"
    }
   ],
   "source": [
    "# Read the text file into an RDD\n",
    "\n",
    "raw_hamlet = sc.textFile(\"hamlet.txt\")\n",
    "raw_hamlet.take(5)"
   ]
  },
  {
   "cell_type": "markdown",
   "metadata": {},
   "source": [
    "The text file uses the tab character (\\t) as a delimiter. We'll need to split the file on the tab delimiter and convert the results into an RDD that's more manageable."
   ]
  },
  {
   "cell_type": "code",
   "execution_count": 6,
   "metadata": {},
   "outputs": [
    {
     "data": {
      "text/plain": [
       "[['hamlet@0', '', 'HAMLET'],\n",
       " ['hamlet@8'],\n",
       " ['hamlet@9'],\n",
       " ['hamlet@10', '', 'DRAMATIS PERSONAE'],\n",
       " ['hamlet@29']]"
      ]
     },
     "execution_count": 6,
     "metadata": {},
     "output_type": "execute_result"
    }
   ],
   "source": [
    "split_hamlet = raw_hamlet.map(lambda line:line.split(\"\\t\"))\n",
    "split_hamlet.take(5)"
   ]
  },
  {
   "cell_type": "markdown",
   "metadata": {},
   "source": [
    "Lambda functions are great for writing quick functions we can pass into PySpark methods with simple logic. They fall short when we need to write more customized logic, though. Thankfully, PySpark lets us define a function in Python first, then pass it in. Any function that returns a sequence of data in PySpark (versus a guaranteed Boolean value, like **filter()** requires) must use a **yield** statement to specify the values that should be pulled later.\n",
    "\n",
    "If we're unfamiliar with the **yield** statement in Python, read this excellent [Stack Overflow answer](https://stackoverflow.com/questions/231767/what-does-the-yield-keyword-do/231855#231855) on the topic. To summarize, **yield** is a Python technique that allows the interpreter to generate data on the fly and pull it when necessary, instead of storing it to memory immediately. Because of its unique architecture, Spark takes advantage of this technique to reduce overhead and improve the speed of computations.\n",
    "\n",
    "Spark runs the named function on every element in the RDD and restricts it in scope. Each instance of the function only has access to the object(s) we pass into the function, and the Python libraries available in our environment. If we try to refer to variables outside the scope of the function or import libraries, those actions may cause the computation to crash. That's because Spark compiles the function's code to Java to run on the RDD objects (which are also in Java).\n",
    "\n",
    "Finally, not all functions require us to use **yield**; only the ones that generate a custom sequence of data do. For **map()** or **filter()**, we use **return** to return a value for every single element in the RDD we're running the functions on."
   ]
  },
  {
   "cell_type": "markdown",
   "metadata": {},
   "source": [
    "In the following code cell, we'll use the **flatMap()** method with the named function **hamlet_speaks** to check whether a line in the play contains the text **HAMLET** in all caps (indicating that Hamlet spoke). **flatMap()** is different than **map()** because it doesn't require an output for every element in the RDD. The **flatMap()** method is useful whenever we want to generate a sequence of values from an RDD.\n",
    "\n",
    "In this case, we want an RDD object that contains tuples of the unique line IDs and the text \"hamlet speaketh!,\" but **only for the elements in the RDD that have \"HAMLET\" in one of the values**. We can't use the **map()** method for this because it requires a return value for every element in the RDD.\n",
    "\n",
    "We want each element in the resulting RDD to have the following format:\n",
    "\n",
    "1. The first value should be the unique line ID (e.g.'hamlet@0') , which is the first value in each of the elements in the **split_hamlet** RDD.\n",
    "\n",
    "2. The second value should be the string \"hamlet speaketh!\""
   ]
  },
  {
   "cell_type": "code",
   "execution_count": 7,
   "metadata": {},
   "outputs": [],
   "source": [
    "def hamlet_speaks(line):\n",
    "    id = line[0]\n",
    "    speaketh = False\n",
    "    \n",
    "    if \"HAMLET\" in line:\n",
    "        speaketh = True\n",
    "    if speaketh:\n",
    "        yield id, \"hamlet speaketh!\""
   ]
  },
  {
   "cell_type": "code",
   "execution_count": 11,
   "metadata": {},
   "outputs": [],
   "source": [
    "hamlet_spoken = split_hamlet.flatMap(lambda line: hamlet_speaks(line))"
   ]
  },
  {
   "cell_type": "code",
   "execution_count": 20,
   "metadata": {},
   "outputs": [
    {
     "data": {
      "text/plain": [
       "[('hamlet@0', 'hamlet speaketh!'),\n",
       " ('hamlet@75', 'hamlet speaketh!'),\n",
       " ('hamlet@1004', 'hamlet speaketh!'),\n",
       " ('hamlet@9144', 'hamlet speaketh!'),\n",
       " ('hamlet@12313', 'hamlet speaketh!')]"
      ]
     },
     "execution_count": 20,
     "metadata": {},
     "output_type": "execute_result"
    }
   ],
   "source": [
    "hamlet_spoken.take(5)"
   ]
  },
  {
   "cell_type": "markdown",
   "metadata": {},
   "source": [
    "**hamlet_spoken** now contains the line numbers for the lines where Hamlet spoke. While this is handy, we don't have the full line anymore. Instead, let's use a **filter()** with a named function to extract the original lines where Hamlet spoke. The functions we pass into **filter()** $must$ return values, which will be either **True** or **False**."
   ]
  },
  {
   "cell_type": "code",
   "execution_count": 21,
   "metadata": {},
   "outputs": [],
   "source": [
    "def filter_hamlet_speaks(line):\n",
    "    if \"HAMLET\" in line:\n",
    "        return True\n",
    "    return False"
   ]
  },
  {
   "cell_type": "code",
   "execution_count": 22,
   "metadata": {},
   "outputs": [],
   "source": [
    "hamlet_spoken_lines = split_hamlet.filter(lambda line: filter_hamlet_speaks(line))"
   ]
  },
  {
   "cell_type": "code",
   "execution_count": 23,
   "metadata": {},
   "outputs": [
    {
     "data": {
      "text/plain": [
       "[['hamlet@0', '', 'HAMLET'],\n",
       " ['hamlet@75', 'HAMLET', 'son to the late, and nephew to the present king.'],\n",
       " ['hamlet@1004', '', 'HAMLET'],\n",
       " ['hamlet@9144', '', 'HAMLET'],\n",
       " ['hamlet@12313',\n",
       "  'HAMLET',\n",
       "  '[Aside]  A little more than kin, and less than kind.']]"
      ]
     },
     "execution_count": 23,
     "metadata": {},
     "output_type": "execute_result"
    }
   ],
   "source": [
    "hamlet_spoken_lines.take(5)"
   ]
  },
  {
   "cell_type": "markdown",
   "metadata": {},
   "source": [
    "As we've discussed before, Spark has two kinds of methods, transformations and actions. While we've explored some of the transformations, we haven't used any actions other than **take()**.\n",
    "\n",
    "Whenever we use an action method, Spark forces the evaluation of lazy code. If we only chain together transformation methods and print the resulting RDD object, we'll see the type of RDD (e.g. a PythonRDD or PipelinedRDD object), but not the elements within it. That's because the computation hasn't actually happened yet.\n",
    "\n",
    "Even though Spark simplifies chaining lots of transformations together, it's good practice to use actions to observe the intermediate RDD objects between those transformations. This will let you know whether our transformations are working the way we expect them to.\n",
    "\n",
    "### Count()\n",
    "\n",
    "The **count()** method returns the number of elements in an RDD. **count()** is useful when we want to make sure the result of a transformation contains the right number of elements. For example, if we know there should be an element in the resulting RDD for every element in the initial RDD, we can compare the counts of both to ensure they match.\n",
    "\n",
    "To get the number of elements in the RDD **hamlet_spoken_lines**, run **.count()** on it:\n",
    "\n",
    "**hamlet_spoken_lines.count()**\n",
    "\n",
    "### Collect()\n",
    "\n",
    "We've used **take()** to preview the first few elements of an RDD, similar to the way we've used **head()** in pandas. But what about returning all of the elements in a collection? We need to do this to write an RDD to a CSV, for example. It's also useful for running some basic Python code over a collection without going through PySpark.\n",
    "\n",
    "Running **.collect()** on an RDD returns a list representation of it. To get a list of all the elements in **hamlet_spoken_lines**, for example, we would write:\n",
    "\n",
    "**hamlet_spoken_lines.collect()**"
   ]
  },
  {
   "cell_type": "code",
   "execution_count": 32,
   "metadata": {},
   "outputs": [
    {
     "data": {
      "text/plain": [
       "381"
      ]
     },
     "execution_count": 32,
     "metadata": {},
     "output_type": "execute_result"
    }
   ],
   "source": [
    "#  number of elements in hamlet_spoken_lines\n",
    "spoken_count = hamlet_spoken_lines.count()\n",
    "spoken_count"
   ]
  },
  {
   "cell_type": "code",
   "execution_count": 33,
   "metadata": {},
   "outputs": [
    {
     "data": {
      "text/plain": [
       "381"
      ]
     },
     "execution_count": 33,
     "metadata": {},
     "output_type": "execute_result"
    }
   ],
   "source": [
    "spoken_collect = hamlet_spoken_lines.collect()\n",
    "len(spoken_collect)"
   ]
  },
  {
   "cell_type": "code",
   "execution_count": 35,
   "metadata": {},
   "outputs": [
    {
     "data": {
      "text/plain": [
       "['hamlet@58478', 'HAMLET', 'A goodly one; in which there are many confines,']"
      ]
     },
     "execution_count": 35,
     "metadata": {},
     "output_type": "execute_result"
    }
   ],
   "source": [
    "spoken_101 = spoken_collect[100]\n",
    "spoken_101"
   ]
  },
  {
   "cell_type": "markdown",
   "metadata": {},
   "source": [
    "While we've done some initial cleanup of the Hamlet data set, we hope we have a better idea of how to use PySpark to transform it into a format that's better for data analysis. We also learned how to use actions to explore an RDD before chaining another transformation to it.\n",
    "\n",
    "If we'd like to learn how to install PySpark and integrate it with IPython Notebook, [this wonderful blog post](https://ramhiser.com/2015/02/01/configuring-ipython-notebook-support-for-pyspark/) will walk us through the steps. "
   ]
  },
  {
   "cell_type": "code",
   "execution_count": null,
   "metadata": {},
   "outputs": [],
   "source": []
  }
 ],
 "metadata": {
  "kernelspec": {
   "display_name": "Python 3",
   "language": "python",
   "name": "python3"
  },
  "language_info": {
   "codemirror_mode": {
    "name": "ipython",
    "version": 3
   },
   "file_extension": ".py",
   "mimetype": "text/x-python",
   "name": "python",
   "nbconvert_exporter": "python",
   "pygments_lexer": "ipython3",
   "version": "3.7.3"
  }
 },
 "nbformat": 4,
 "nbformat_minor": 2
}
